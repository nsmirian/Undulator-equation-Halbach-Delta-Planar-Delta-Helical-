{
 "cells": [
  {
   "cell_type": "markdown",
   "metadata": {
    "scrolled": true
   },
   "source": [
    "Undulator equation:\n",
    "\n",
    "Halbach \\\\\n",
    "Delta Planar \\\\\n",
    "Delta Helical \\\\"
   ]
  },
  {
   "cell_type": "code",
   "execution_count": 14,
   "metadata": {},
   "outputs": [
    {
     "name": "stdout",
     "output_type": "stream",
     "text": [
      "3.15083157336146\n",
      "Planar Halbach undulator\n",
      "97.11493075414693\n",
      "2.0653149105878257e-06\n",
      "---------------------------\n",
      "1.906094725588986\n",
      "Planar Delta undulator\n",
      "58.74965163210373\n",
      "3.780945365448647e-07\n",
      "---------------------------\n",
      "1.3919682387731156\n",
      "Helical Delta undulator\n",
      "42.90324505546497\n",
      "4.0325929477555544e-07\n"
     ]
    }
   ],
   "source": [
    "import math  \n",
    "from scipy import signal\n",
    "import scipy.special as sp\n",
    "import numpy as np\n",
    "#################################\n",
    "### Undulatrors\n",
    "#c1=3.67; c2=-5.08; c3=1.54;      # Halbach\n",
    "#c1=1.96; c2=-0.82; c3=3.31;     # Delta Planar\n",
    "#c1=1.45; c2=-1.28; c3=2.24;     # Delta Helical\n",
    "g=0.01;lamu=33e-2; gamma=14e3/0.51;\n",
    "############################\n",
    "### Fiel function #####\n",
    "def Und_Field( c1, c2,c3,g, lambda0):\n",
    "    B=c1 *math.exp(c2*(g/lambda0)+c3*(g/lambda0)**2)\n",
    "    return B\n",
    "#################  Hlback\n",
    "c1=3.67; c2=-5.08; c3=1.54;\n",
    "Fild=Und_Field(c1, c2, c3,g, lamu )\n",
    "print(Fild)\n",
    "K=0.934*Fild*lamu*100\n",
    "print('Planar Halbach undulator')\n",
    "print(K)\n",
    "# Calculating longer wavelngth \n",
    "lam=lamu/(2*gamma**2)* (1+K**2)\n",
    "print (lam)\n",
    "print('---------------------------')\n",
    "#################  Delta \n",
    "c1=1.96; c2=-0.82; c3=-3.31;  \n",
    "Fild=Und_Field(c1, c2, c3,g, lamu )\n",
    "print(Fild)\n",
    "K=0.934*Fild*lamu*100\n",
    "print('Planar Delta undulator')\n",
    "print(K)\n",
    "# Calculating longer wavelngth \n",
    "lam=lamu/(2*gamma**2 )*(1+K**2/2)\n",
    "print (lam)\n",
    "print('---------------------------')\n",
    "#################  Delta \n",
    "c1=1.45; c2=-1.28; c3=-2.24; \n",
    "Fild=Und_Field(c1, c2, c3,g, lamu )\n",
    "print(Fild)\n",
    "K=0.934*Fild*lamu*100\n",
    "print('Helical Delta undulator')\n",
    "print(K)\n",
    "# Calculating longer wavelngth \n",
    "lamH=lamu/(2*gamma**2) *(1+K**2)\n",
    "print (lamH)\n",
    "#(Br=1.37)"
   ]
  },
  {
   "cell_type": "code",
   "execution_count": 2,
   "metadata": {},
   "outputs": [
    {
     "name": "stdout",
     "output_type": "stream",
     "text": [
      "1.1431375913102793\n"
     ]
    }
   ],
   "source": [
    "k=np.sqrt(2* 6e-12*5.882300E+04**2/1.8e-2 -1 )\n",
    "print(k)"
   ]
  },
  {
   "cell_type": "code",
   "execution_count": null,
   "metadata": {},
   "outputs": [],
   "source": []
  }
 ],
 "metadata": {
  "kernelspec": {
   "display_name": "Python 3",
   "language": "python",
   "name": "python3"
  },
  "language_info": {
   "codemirror_mode": {
    "name": "ipython",
    "version": 3
   },
   "file_extension": ".py",
   "mimetype": "text/x-python",
   "name": "python",
   "nbconvert_exporter": "python",
   "pygments_lexer": "ipython3",
   "version": "3.8.5"
  }
 },
 "nbformat": 4,
 "nbformat_minor": 2
}
